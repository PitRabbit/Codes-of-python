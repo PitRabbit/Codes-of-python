{
  "nbformat": 4,
  "nbformat_minor": 0,
  "metadata": {
    "colab": {
      "provenance": [],
      "authorship_tag": "ABX9TyPifXjZT5dCKZQ8apc3dJo0",
      "include_colab_link": true
    },
    "kernelspec": {
      "name": "python3",
      "display_name": "Python 3"
    },
    "language_info": {
      "name": "python"
    }
  },
  "cells": [
    {
      "cell_type": "markdown",
      "metadata": {
        "id": "view-in-github",
        "colab_type": "text"
      },
      "source": [
        "<a href=\"https://colab.research.google.com/github/PitRabbit/Codes-of-python/blob/main/ABC375.ipynb\" target=\"_parent\"><img src=\"https://colab.research.google.com/assets/colab-badge.svg\" alt=\"Open In Colab\"/></a>"
      ]
    },
    {
      "cell_type": "code",
      "execution_count": null,
      "metadata": {
        "colab": {
          "base_uri": "https://localhost:8080/"
        },
        "id": "G1ulZ-8SqZjd",
        "outputId": "3ad1732a-79c1-4f62-fdc0-82b5de45da2e"
      },
      "outputs": [
        {
          "output_type": "stream",
          "name": "stdout",
          "text": [
            "6\n",
            "#.##.#\n",
            "2\n"
          ]
        }
      ],
      "source": [
        "N = int(input())\n",
        "S = input()\n",
        "ans = 0\n",
        "\n",
        "for i in range(N - 2):\n",
        "    if S[i] == \"#\" and S[i + 1] == \".\" and S[i + 2] == \"#\":\n",
        "        ans += 1\n",
        "\n",
        "print(ans)"
      ]
    },
    {
      "cell_type": "code",
      "source": [
        "import math\n",
        "\n",
        "ans = 0\n",
        "N = int(input())\n",
        "a, b = 0, 0\n",
        "\n",
        "for i in range(N):\n",
        "    c, d = map(int, input().split(' '))\n",
        "    ans +=  math.sqrt((c - a)**2 + (d -b)**2)\n",
        "    a, b = c, d\n",
        "ans += math.sqrt((0 - a)**2 + (0 - b)**2)\n",
        "print(ans)\n"
      ],
      "metadata": {
        "id": "qvg2pyjdrgFM",
        "colab": {
          "base_uri": "https://localhost:8080/"
        },
        "outputId": "fb128d1a-76a8-46df-94fb-20bfc8e06273"
      },
      "execution_count": null,
      "outputs": [
        {
          "output_type": "stream",
          "name": "stdout",
          "text": [
            "2\n",
            "1 2\n",
            "-1 0\n",
            "6.06449510224598\n"
          ]
        }
      ]
    },
    {
      "cell_type": "code",
      "source": [
        "N = int(input())\n",
        "row, column = [], []\n",
        "\n",
        "for i in range(N):\n",
        "    row[i] = input()\n",
        "    column[i] = row[i]\n",
        "\n",
        "for j in range(N):\n"
      ],
      "metadata": {
        "colab": {
          "base_uri": "https://localhost:8080/"
        },
        "id": "oejGtXOjznfN",
        "outputId": "eb3f0ee4-8eea-410a-9dc1-8b0d3ff83aa6"
      },
      "execution_count": null,
      "outputs": [
        {
          "output_type": "stream",
          "name": "stdout",
          "text": [
            "9\n",
            "[[0, 0, 0, 0, 0, 0, 0, 0, 0], [0, 0, 0, 0, 0, 0, 0, 0, 0], [0, 0, 0, 0, 0, 0, 0, 0, 0], [0, 0, 0, 0, 0, 0, 0, 0, 0], [0, 0, 0, 0, 0, 0, 0, 0, 0], [0, 0, 0, 0, 0, 0, 0, 0, 0], [0, 0, 0, 0, 0, 0, 0, 0, 0], [0, 0, 0, 0, 0, 0, 0, 0, 0], [0, 0, 0, 0, 0, 0, 0, 0, 0]]\n"
          ]
        }
      ]
    }
  ]
}